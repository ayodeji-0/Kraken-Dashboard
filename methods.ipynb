{
 "cells": [
  {
   "cell_type": "code",
   "execution_count": 3,
   "metadata": {},
   "outputs": [],
   "source": [
    "import requests\n",
    "import urllib.parse\n",
    "import hashlib\n",
    "import hmac\n",
    "import base64\n",
    "import time\n",
    "from datetime import datetime as dt, timedelta as td\n",
    "\n",
    "# Other necessary imports\n",
    "import plotly.graph_objects as go\n",
    "from plotly.subplots import make_subplots\n",
    "import plotly.express as px\n",
    "import plotly.io as pio\n",
    "import json\n",
    "import pandas as pd\n",
    "#import altair as alt\n",
    "import numpy as np\n",
    "import os\n",
    "import config as cfg\n",
    "\n",
    "from difflib import get_close_matches"
   ]
  },
  {
   "cell_type": "code",
   "execution_count": 81,
   "metadata": {},
   "outputs": [],
   "source": [
    "api_url = \"https://api.kraken.com\"\n",
    "\n",
    "api_endpoints = {\n",
    "    'Assets': '/0/public/Assets',\n",
    "    'AssetPairs': '/0/public/AssetPairs',\n",
    "    'Ticker': '/0/public/Ticker',\n",
    "    'OHLC': '/0/public/OHLC',\n",
    "    'default OHLC': '/0/public/OHLC',\n",
    "\n",
    "    'Balance': '/0/private/Balance',\n",
    "    'ExtendedBalance': '/0/private/BalanceEx',\n",
    "    'TradeBalance': '/0/private/TradeBalance',\n",
    "    'Ledgers': '/0/private/Ledgers',\n",
    "    'QueryLedgers': '/0/private/QueryLedgers',\n",
    "    'TradeVolume': '/0/private/TradeVolume',\n",
    "    'TradesHistory': '/0/private/TradesHistory',\n",
    "    'OpenOrders': '/0/private/OpenOrders',\n",
    "\n",
    "}\n",
    "\n",
    "# Read Kraken API key and secret stored in config file\n",
    "api_key = cfg.api_key\n",
    "api_sec = cfg.api_priv\n"
   ]
  },
  {
   "cell_type": "code",
   "execution_count": 6,
   "metadata": {},
   "outputs": [],
   "source": [
    "# Function to generate a nonce\n",
    "def generate_nonce():\n",
    "    nonce = str(int(1000 * time.time()))\n",
    "    return nonce"
   ]
  },
  {
   "cell_type": "code",
   "execution_count": 7,
   "metadata": {},
   "outputs": [],
   "source": [
    "# Function to get Kraken signature\n",
    "def get_kraken_signature(urlpath, data, secret):\n",
    "    postdata = urllib.parse.urlencode(data)\n",
    "    encoded = (str(data['nonce']) + postdata).encode()\n",
    "    message = urlpath.encode() + hashlib.sha256(encoded).digest()\n",
    "\n",
    "    mac = hmac.new(base64.b64decode(secret), message, hashlib.sha512)\n",
    "    sigdigest = base64.b64encode(mac.digest())\n",
    "    return sigdigest.decode() "
   ]
  },
  {
   "cell_type": "code",
   "execution_count": 8,
   "metadata": {},
   "outputs": [],
   "source": [
    "# Function to make a POST Kraken API request\n",
    "def kraken_request(uri_path, data, api_key, api_sec, headers=None):\n",
    "    if headers is None:\n",
    "        headers = {}\n",
    "\n",
    "    headers['API-Key'] = api_key\n",
    "    headers['API-Sign'] = get_kraken_signature(uri_path, data, api_sec)\n",
    "    req = requests.post((api_url + uri_path), headers=headers, data=data)\n",
    "    return req\n",
    "\n",
    "# Function to make a GET request to the Kraken API\n",
    "def kraken_get_request(uri_path, data=None, headers=None):\n",
    "    # Default headers\n",
    "    if headers is None:\n",
    "        headers = {'Accept': 'application/json'}\n",
    "\n",
    "    # Construct the request URL\n",
    "    if uri_path == api_endpoints['OHLC']:\n",
    "        # Append query parameters for the OHLC endpoint\n",
    "        query_params = f\"?pair={data['pair']}&interval={data['interval']}\"\n",
    "        full_url = api_url + uri_path + query_params\n",
    "    else:\n",
    "        # Use uri_path directly for other endpoints\n",
    "        full_url = api_url + uri_path\n",
    "\n",
    "    # Make the GET request\n",
    "    req = requests.get(full_url, headers=headers, data=data)\n",
    "    return req"
   ]
  },
  {
   "cell_type": "code",
   "execution_count": 9,
   "metadata": {},
   "outputs": [],
   "source": [
    "# Function to grab the current GBPUSD rate from the Kraken API\n",
    "def grab_rate():\n",
    "    resp = kraken_get_request(api_endpoints['Ticker'], {\"pair\": 'GBPUSD'}).json()\n",
    "    rate = 1/float(resp['result']['ZGBPZUSD']['c'][0])\n",
    "    return rate"
   ]
  },
  {
   "cell_type": "code",
   "execution_count": 10,
   "metadata": {},
   "outputs": [
    {
     "data": {
      "text/plain": [
       "0.7954753362871985"
      ]
     },
     "execution_count": 10,
     "metadata": {},
     "output_type": "execute_result"
    }
   ],
   "source": [
    "grab_rate()"
   ]
  },
  {
   "cell_type": "code",
   "execution_count": 63,
   "metadata": {},
   "outputs": [],
   "source": [
    "# Function to grab all tradeable asset pairs on Kraken, filtering out pairs quoted in both USD and GBP, preference for USD pairs\n",
    "def grab_all_assets():\n",
    "    # Construct the Kraken API request and get all asset pairs from the Kraken API\n",
    "    assetPairs = kraken_get_request(api_endpoints['AssetPairs']).json()['result']\n",
    "    \n",
    "    # Filter out asset pairs that are not quoted in USD\n",
    "    assetPairs = {k: v for k, v in assetPairs.items() if v['quote'] == 'ZUSD' or v['quote'] == 'ZGBP'}\n",
    "\n",
    "    # Remove gbp usd duplicates, keeping usd pairs - usually higher volumes\n",
    "    for asset in list(assetPairs.keys()):\n",
    "        if assetPairs[asset]['altname'].endswith('GBP') and assetPairs[asset]['altname'][:-3] + 'USD' in assetPairs:\n",
    "            assetPairs.pop(asset)\n",
    "\n",
    "    # Extract 'altname' for each asset pair\n",
    "    altNames = [details['altname'] for details in assetPairs.values()]\n",
    "    return altNames, assetPairs# altNames is a list of all tradeable asset pairs on Kraken example: ['XXBTZUSD', 'XETHZUSD', 'XETHXXBT']"
   ]
  },
  {
   "cell_type": "code",
   "execution_count": 66,
   "metadata": {},
   "outputs": [
    {
     "name": "stdout",
     "output_type": "stream",
     "text": [
      "EURGBP\n",
      "LTCGBP\n",
      "USDTGBP\n",
      "XETHZGBP\n",
      "XRPGBP\n",
      "XXBTZGBP\n",
      "XXLMZGBP\n"
     ]
    }
   ],
   "source": [
    "assets, assetPairs = grab_all_assets()\n",
    "assets\n",
    "\n",
    "# Printing non duplicate GBP pairs\n",
    "for asset in assetPairs:\n",
    "    if assetPairs[asset]['altname'][-3:] == 'GBP':\n",
    "        if assetPairs[asset]['altname'][:-3] + 'USD' not in assetPairs.keys():\n",
    "            print(asset)"
   ]
  },
  {
   "cell_type": "code",
   "execution_count": 73,
   "metadata": {},
   "outputs": [],
   "source": [
    "def grab_ext_bal():\n",
    "    # Construct the Kraken API request and get the External Balance Information\n",
    "    resp = kraken_request(api_endpoints['ExtendedBalance'], {\"nonce\": generate_nonce(),}, api_key, api_sec).json()\n",
    "    balanceDict = {}\n",
    "    # Extract the balance of each asset and the asset name\n",
    "    # Use a dictionary comprehension to build the balanceDict\n",
    "    balanceDict = {\n",
    "        asset: float(details['balance'])\n",
    "        for asset, details in resp['result'].items()\n",
    "        if float(details['balance']) != 0\n",
    "    }\n",
    "    return balanceDict # balanceDict is a dictionary with asset names as keys and balances as values example: {'XBT': 0.1, 'GBP': 1000}\n"
   ]
  },
  {
   "cell_type": "code",
   "execution_count": 74,
   "metadata": {},
   "outputs": [
    {
     "data": {
      "text/plain": [
       "{'SOL.F': 0.1253581071,\n",
       " 'XXRP': 11.37776632,\n",
       " 'ZGBP': 263.9041,\n",
       " 'ZUSD': 107.6286}"
      ]
     },
     "execution_count": 74,
     "metadata": {},
     "output_type": "execute_result"
    }
   ],
   "source": [
    "grab_ext_bal()"
   ]
  },
  {
   "cell_type": "code",
   "execution_count": 180,
   "metadata": {},
   "outputs": [],
   "source": [
    "def grab_clean_bal():\n",
    "    balanceDict = grab_ext_bal()\n",
    "    cashBalanceDict = {asset: balance for asset, balance in balanceDict.items() if asset.startswith('Z')}\n",
    "    \n",
    "    balanceDictPairs = {\n",
    "        match[0]: balance\n",
    "        for asset, balance in balanceDict.items()\n",
    "        if not asset.startswith('Z') and (match := get_close_matches(asset + \"USD\", assets, n=1))\n",
    "    }\n",
    "    \n",
    "    return balanceDict, balanceDictPairs, cashBalanceDict"
   ]
  },
  {
   "cell_type": "code",
   "execution_count": 181,
   "metadata": {},
   "outputs": [
    {
     "data": {
      "text/plain": [
       "({'SOL.F': 0.1249334871,\n",
       "  'XXRP': 11.37776632,\n",
       "  'ZGBP': 263.9041,\n",
       "  'ZUSD': 107.5484},\n",
       " {'SOLUSD': 0.1249334871, 'XRPUSD': 11.37776632},\n",
       " {'ZGBP': 263.9041, 'ZUSD': 107.5484})"
      ]
     },
     "execution_count": 181,
     "metadata": {},
     "output_type": "execute_result"
    }
   ],
   "source": [
    "cleanBal = grab_clean_bal()\n",
    "cleanBal"
   ]
  },
  {
   "cell_type": "code",
   "execution_count": 182,
   "metadata": {},
   "outputs": [],
   "source": [
    "def grab_trade_bal():\n",
    "    # Construct the Kraken API request and get the Trade Balance Information\n",
    "    resp = kraken_request(api_endpoints['TradeBalance'], {\"nonce\": generate_nonce(), \"asset\": 'ZUSD'}, api_key, api_sec).json()\n",
    "    \n",
    "    tradeBalanceDict = resp['result']\n",
    "\n",
    "    # Mapping keys to their meanings from API documentation\n",
    "    key_mapping = {\n",
    "        'eb': 'Extended Balance',\n",
    "        'tb': 'Trade Balance',\n",
    "        'm': 'Margin Amount',\n",
    "        'n': 'Unrealized Net Profit/Loss',\n",
    "        'c': 'Cost Basis',\n",
    "        'v': 'Current Floating Valuation',\n",
    "        'e': 'Equity',\n",
    "        'mf': 'Free Margin',\n",
    "        'ml': 'Margin Level',\n",
    "        'uv': 'Unexecuted Value',\n",
    "    }\n",
    "    tradeBalanceDict.update({key_mapping[k]: tradeBalanceDict.pop(k) for k in key_mapping if k in tradeBalanceDict})\n",
    "\n",
    "    return tradeBalanceDict # tradeBalanceDict is a dictionary with trade balance information\n"
   ]
  },
  {
   "cell_type": "code",
   "execution_count": 183,
   "metadata": {},
   "outputs": [
    {
     "data": {
      "text/plain": [
       "{'Extended Balance': '489.1797',\n",
       " 'Trade Balance': '484.3337',\n",
       " 'Margin Amount': '409.9447',\n",
       " 'Unrealized Net Profit/Loss': '-16.2053',\n",
       " 'Cost Basis': '1579.8174',\n",
       " 'Current Floating Valuation': '1596.0226',\n",
       " 'Equity': '468.1284',\n",
       " 'Free Margin': '58.1837',\n",
       " 'Margin Level': '114.19',\n",
       " 'Unexecuted Value': '0.0000'}"
      ]
     },
     "execution_count": 183,
     "metadata": {},
     "output_type": "execute_result"
    }
   ],
   "source": [
    "grab_trade_bal()"
   ]
  },
  {
   "cell_type": "code",
   "execution_count": 188,
   "metadata": {},
   "outputs": [],
   "source": [
    "def grab_ticker_data(assetPairs):\n",
    "    # example assetPairs = ['XXBTZUSD', 'XETHZUSD', 'XETHXXBT']\n",
    "    resp = kraken_get_request(api_endpoints['Ticker']).json()\n",
    "    \n",
    "    # Map keys to more descriptive names\n",
    "    key_mapping = {\n",
    "        'a': 'Ask',\n",
    "        'b': 'Bid',\n",
    "        'c': 'Last Trade Closed',\n",
    "        'v': 'Volume',\n",
    "        'p': 'VWAP',\n",
    "        't': 'Number of Trades',\n",
    "        'l': 'Low',\n",
    "        'h': 'High',\n",
    "        'o': 'Open',\n",
    "    }\n",
    "    \n",
    "    desc = {\n",
    "        'Ask' : '[Price] [Whole Lot Volume] [Lot Volume]',\n",
    "        'Bid' : '[Price] [Whole Lot Volume] [Lot Volume]',\n",
    "        'Last Trade Closed' : '[Price] [Lot Volume]',\n",
    "        'Volume' : '[Today] [Last 24 Hours]',\n",
    "        'VWAP' : '[Today] [Last 24 Hours]',\n",
    "        'Number of Trades' : '[Today] [Last 24 Hours]',\n",
    "        'Low' : '[Today] [Last 24 Hours]',\n",
    "        'High' : '[Today] [Last 24 Hours]',\n",
    "        'Open' : '[Today]',\n",
    "\n",
    "    }\n",
    "    # Create the ticker dictionary with remapped keys\n",
    "    tickerDict = {\n",
    "        get_close_matches(assetPair, resp['result'].keys(), n=1)[0]: {\n",
    "            key_mapping[key]: value for key, value in resp['result'][get_close_matches(assetPair, resp['result'].keys(), n=1)[0]].items() if key in key_mapping\n",
    "        }\n",
    "        for assetPair in assetPairs\n",
    "    }\n",
    "    \n",
    "    return tickerDict, desc\n",
    "# tickerDict is a dictionary with asset pairs as keys and ticker data as values example: {'XXBTZUSD': {'a': ['10000.0', '1', '1.000'], 'b': ['9999.0', '1', '1.000'], 'c': ['10000.5', '0.1'], 'v': ['100', '200'], 'p': ['10000.0', '10000.0'], 't': [100, 200], 'l': ['9999.0', '9999.0'], 'h': ['10000.0', '10000.0'], 'o': '10000.0'}}"
   ]
  },
  {
   "cell_type": "code",
   "execution_count": 190,
   "metadata": {},
   "outputs": [
    {
     "data": {
      "text/plain": [
       "{'SOLUSD': {'Ask': ['192.81000', '1', '1.000'],\n",
       "  'Bid': ['192.80000', '88', '88.000'],\n",
       "  'Last Trade Closed': ['192.80000', '0.29020400'],\n",
       "  'Volume': ['80959.03219729', '97583.32934549'],\n",
       "  'VWAP': ['194.32798', '194.22995'],\n",
       "  'Number of Trades': [13375, 17230],\n",
       "  'Low': ['191.81000', '191.81000'],\n",
       "  'High': ['197.19000', '197.19000'],\n",
       "  'Open': '195.17000'},\n",
       " 'XRPUSDT': {'Ask': ['2.14311000', '670', '670.000'],\n",
       "  'Bid': ['2.14310000', '2658', '2658.000'],\n",
       "  'Last Trade Closed': ['2.14267000', '25.23541400'],\n",
       "  'Volume': ['395588.96555940', '502291.29910246'],\n",
       "  'VWAP': ['2.16219367', '2.16804232'],\n",
       "  'Number of Trades': [1508, 1897],\n",
       "  'Low': ['2.13934000', '2.13934000'],\n",
       "  'High': ['2.19643000', '2.20525000'],\n",
       "  'Open': '2.18505000'}}"
      ]
     },
     "execution_count": 190,
     "metadata": {},
     "output_type": "execute_result"
    }
   ],
   "source": [
    "grab_ticker_data(list(cleanBal[1].keys()))[0]"
   ]
  },
  {
   "cell_type": "code",
   "execution_count": 191,
   "metadata": {},
   "outputs": [],
   "source": [
    "# Possible intervals: 1, 5, 15, 30, 60, 240, 1440, 10080, 21600 in minutes i.e., 1 minute, 5 minutes, 15 minutes, 30 minutes, 1 hour, 4 hours, 1 day, 1 week, 1 month\n",
    "# Possible tenures: 1D (1440), 7D (10080), 1M (43200), 3M (129600), 6M (259200), 1Y (518400) - corresponding intervals are tenure/720 to maximize data points from a single request\n",
    "possible_intervals =[1, 5, 15, 30, 60, 240, 1440, 10080, 21600]\n",
    "possible_timeframes = {'1D': 1440, '7D': 10080, '1M': 43200, '3M': 129600, '6M': 259200, '1Y': 518400}"
   ]
  },
  {
   "cell_type": "code",
   "execution_count": 193,
   "metadata": {},
   "outputs": [],
   "source": [
    "# Function to grab the OHLC data for a given list of asset pairs - todo\n",
    "def grab_ohlc_data(assetPairs,tenure):\n",
    "    # divide timerframe by 720 to get the interval but use the next larger closet possible interval\n",
    "    interval = min([i for i in possible_intervals if i >= possible_timeframes[tenure]/720], default=possible_intervals[-1])\n",
    "    interval = str(interval)\n",
    "    # Construct since parameter for the OHLC request using tenure and datetime unix converted timestamp, i.e., subtracting the tenure from the current time and equating it to the since parameter\n",
    "    since = int(time.time()) - possible_timeframes[tenure]*60\n",
    "    since = str(since)\n",
    "\n",
    "    # Construct the Kraken API request and get the OHLC data for the given asset pairs, ohlc grabbing requires use of a temporary endpoint for the OHLC url\n",
    "    ohlcDict = {}\n",
    "    for assetPair in assetPairs:\n",
    "        if assetPair[-3:] == 'USD':\n",
    "            if assetPair == 'USDTUSD' or assetPair == 'ZGBPZUSD':# or assetPair == 'ETCUSD':    \n",
    "                continue\n",
    "            #st.write(\"X\" + assetPair[:3] + \"Z\") \n",
    "            matches = get_close_matches(\"X\" + assetPair[:3] + \"Z\", list(ohlcDict.keys())[:3], n=1, cutoff = 0.6)\n",
    "            if matches:#and 'X' not in assetPair:\n",
    "                continue\n",
    "            resp = kraken_get_request(api_endpoints['OHLC'], {\"pair\": assetPair, \"interval\": interval, \"since\": since}).json()\n",
    "            if resp['error'] == KeyError:\n",
    "                #skip this asset pair\n",
    "                continue\n",
    "            ohlcDict[assetPair] = resp['result'][assetPair]\n",
    "        # To process the response, we need to extract the OHLC data from the response particularly the tick data array and the last timestamp\n",
    "    # Append the OHLC data to a dataframe and return the dataframe with columns: Time, Open, High, Low, Close, Volume, Count, name it after the asset pair\n",
    "    return ohlcDict"
   ]
  },
  {
   "cell_type": "code",
   "execution_count": null,
   "metadata": {},
   "outputs": [],
   "source": []
  }
 ],
 "metadata": {
  "kernelspec": {
   "display_name": "Python 3",
   "language": "python",
   "name": "python3"
  },
  "language_info": {
   "codemirror_mode": {
    "name": "ipython",
    "version": 3
   },
   "file_extension": ".py",
   "mimetype": "text/x-python",
   "name": "python",
   "nbconvert_exporter": "python",
   "pygments_lexer": "ipython3",
   "version": "3.13.0"
  }
 },
 "nbformat": 4,
 "nbformat_minor": 2
}
